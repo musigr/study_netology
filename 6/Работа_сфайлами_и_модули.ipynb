{
  "nbformat": 4,
  "nbformat_minor": 0,
  "metadata": {
    "colab": {
      "name": "Untitled1.ipynb",
      "provenance": [],
      "authorship_tag": "ABX9TyMzUwNDfIraMTZvCTxOwgPo",
      "include_colab_link": true
    },
    "kernelspec": {
      "name": "python3",
      "display_name": "Python 3"
    },
    "language_info": {
      "name": "python"
    }
  },
  "cells": [
    {
      "cell_type": "markdown",
      "metadata": {
        "id": "view-in-github",
        "colab_type": "text"
      },
      "source": [
        "<a href=\"https://colab.research.google.com/github/musigr/study_netology/blob/main/6/%D0%A0%D0%B0%D0%B1%D0%BE%D1%82%D0%B0_%D1%81%D1%84%D0%B0%D0%B9%D0%BB%D0%B0%D0%BC%D0%B8_%D0%B8_%D0%BC%D0%BE%D0%B4%D1%83%D0%BB%D0%B8.ipynb\" target=\"_parent\"><img src=\"https://colab.research.google.com/assets/colab-badge.svg\" alt=\"Open In Colab\"/></a>"
      ]
    },
    {
      "cell_type": "code",
      "execution_count": 1,
      "metadata": {
        "colab": {
          "base_uri": "https://localhost:8080/",
          "height": 235
        },
        "id": "_B3NV7hA_03D",
        "outputId": "34fd4ba1-e17f-4af9-89dc-ab2657bedb4f"
      },
      "outputs": [
        {
          "output_type": "error",
          "ename": "FileNotFoundError",
          "evalue": "ignored",
          "traceback": [
            "\u001b[0;31m---------------------------------------------------------------------------\u001b[0m",
            "\u001b[0;31mFileNotFoundError\u001b[0m                         Traceback (most recent call last)",
            "\u001b[0;32m<ipython-input-1-c0702cd4544a>\u001b[0m in \u001b[0;36m<module>\u001b[0;34m()\u001b[0m\n\u001b[1;32m      9\u001b[0m \u001b[0;31m# Таким образом, как и по условию задачи, помещаем все содержимое в оперативную память компрьютера\u001b[0m\u001b[0;34m\u001b[0m\u001b[0;34m\u001b[0m\u001b[0;34m\u001b[0m\u001b[0m\n\u001b[1;32m     10\u001b[0m \u001b[0;34m\u001b[0m\u001b[0m\n\u001b[0;32m---> 11\u001b[0;31m \u001b[0;32mwith\u001b[0m \u001b[0mopen\u001b[0m\u001b[0;34m(\u001b[0m\u001b[0;34m'purchase_log.txt'\u001b[0m\u001b[0;34m,\u001b[0m \u001b[0;34m'r'\u001b[0m\u001b[0;34m)\u001b[0m \u001b[0;32mas\u001b[0m \u001b[0mdata_file\u001b[0m\u001b[0;34m:\u001b[0m\u001b[0;34m\u001b[0m\u001b[0;34m\u001b[0m\u001b[0m\n\u001b[0m\u001b[1;32m     12\u001b[0m     \u001b[0;32mfor\u001b[0m \u001b[0mline\u001b[0m \u001b[0;32min\u001b[0m \u001b[0mdata_file\u001b[0m\u001b[0;34m:\u001b[0m\u001b[0;34m\u001b[0m\u001b[0;34m\u001b[0m\u001b[0m\n\u001b[1;32m     13\u001b[0m         \u001b[0mpurchase_log\u001b[0m\u001b[0;34m.\u001b[0m\u001b[0mappend\u001b[0m\u001b[0;34m(\u001b[0m\u001b[0mjson\u001b[0m\u001b[0;34m.\u001b[0m\u001b[0mloads\u001b[0m\u001b[0;34m(\u001b[0m\u001b[0mline\u001b[0m\u001b[0;34m)\u001b[0m\u001b[0;34m)\u001b[0m\u001b[0;34m\u001b[0m\u001b[0;34m\u001b[0m\u001b[0m\n",
            "\u001b[0;31mFileNotFoundError\u001b[0m: [Errno 2] No such file or directory: 'purchase_log.txt'"
          ]
        }
      ],
      "source": [
        "import json\n",
        "\n",
        "\n",
        "purchase_log = []\n",
        "purchase = {}\n",
        "\n",
        "# Первый пункт задания\n",
        "# Загружаем в список содержимое файла purchase_log.txt\n",
        "# Таким образом, как и по условию задачи, помещаем все содержимое в оперативную память компрьютера\n",
        "\n",
        "with open('purchase_log.txt', 'r') as data_file:\n",
        "    for line in data_file:\n",
        "        purchase_log.append(json.loads(line))\n",
        "        \n",
        "# Переделываем полученный список в требуемый словарь вида {‘1840e0b9d4’: ‘Продукты’, …}\n",
        "        \n",
        "for line in purchase_log:\n",
        "    if line['user_id'] != 'user_id':\n",
        "        purchase[line['user_id']] = line['category']\n",
        "        \n",
        "# Вывожу первые 5 элементов этого словаря\n",
        "\n",
        "step = 0        \n",
        "\n",
        "for item in purchase:\n",
        "    print(item,': ', purchase[item], sep='')\n",
        "    step += 1\n",
        "    if step > 5:\n",
        "        break\n",
        "        \n",
        "# Второй пункт задания\n",
        "# Читаю построчно: читаю строку, обрабатываю ее (делаю из нее список), проверяю список\n",
        "# Добавляю категорию, если удовлетворяет условию, делаю из полученного списка обратно строку\n",
        "# Пишу полученную строку в файл funnel.csv и перехожу к следующей строке visit_log.csv\n",
        "         \n",
        "with open('visit_log.csv', 'r') as parent_file:\n",
        "    with open('funnel.csv', 'a') as finaly_file:\n",
        "        for line in parent_file:\n",
        "            line_list = line.strip().split(',')\n",
        "            if line_list[0] in purchase.keys():\n",
        "                line_list.append(purchase.get(line_list[0]))\n",
        "                log_line = \",\".join(line_list)+'\\n'\n",
        "                \n",
        "                finaly_file.write(log_line)"
      ]
    }
  ]
}