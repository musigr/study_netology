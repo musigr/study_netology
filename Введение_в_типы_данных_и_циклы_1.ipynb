{
  "nbformat": 4,
  "nbformat_minor": 0,
  "metadata": {
    "colab": {
      "name": "Введение_в_типы_данных_и_циклы_1.ipynb",
      "provenance": [],
      "collapsed_sections": [],
      "authorship_tag": "ABX9TyOQO6wRPvPGJx77MD9Git3F",
      "include_colab_link": true
    },
    "kernelspec": {
      "name": "python3",
      "display_name": "Python 3"
    },
    "language_info": {
      "name": "python"
    }
  },
  "cells": [
    {
      "cell_type": "markdown",
      "metadata": {
        "id": "view-in-github",
        "colab_type": "text"
      },
      "source": [
        "<a href=\"https://colab.research.google.com/github/musigr/study_netology/blob/main/%D0%92%D0%B2%D0%B5%D0%B4%D0%B5%D0%BD%D0%B8%D0%B5_%D0%B2_%D1%82%D0%B8%D0%BF%D1%8B_%D0%B4%D0%B0%D0%BD%D0%BD%D1%8B%D1%85_%D0%B8_%D1%86%D0%B8%D0%BA%D0%BB%D1%8B_1.ipynb\" target=\"_parent\"><img src=\"https://colab.research.google.com/assets/colab-badge.svg\" alt=\"Open In Colab\"/></a>"
      ]
    },
    {
      "cell_type": "markdown",
      "source": [
        "# 1"
      ],
      "metadata": {
        "id": "b1amy_KNJcBh"
      }
    },
    {
      "cell_type": "code",
      "source": [
        "word = 'test'\n",
        "longota=len(word)\n",
        "if longota % 2==0:\n",
        "    print(word[int(longota/2-1):int(longota/2+1)])\n",
        "else:\n",
        "    print(word[int(longota/2)])"
      ],
      "metadata": {
        "colab": {
          "base_uri": "https://localhost:8080/"
        },
        "id": "gr2D0nfUJdtJ",
        "outputId": "113cc867-1e65-4d1a-c301-9e1b332aec15"
      },
      "execution_count": 1,
      "outputs": [
        {
          "output_type": "stream",
          "name": "stdout",
          "text": [
            "es\n"
          ]
        }
      ]
    },
    {
      "cell_type": "code",
      "source": [
        "word = 'testing'\n",
        "longota=len(word)\n",
        "if longota % 2==0:\n",
        "    print(word[int(longota/2-1):int(longota/2+1)])\n",
        "else:\n",
        "    print(word[int(longota/2)])"
      ],
      "metadata": {
        "colab": {
          "base_uri": "https://localhost:8080/"
        },
        "id": "4HsUZNCTKKC3",
        "outputId": "7b902f90-5a26-48f1-e635-400b593d4ef1"
      },
      "execution_count": 2,
      "outputs": [
        {
          "output_type": "stream",
          "name": "stdout",
          "text": [
            "t\n"
          ]
        }
      ]
    },
    {
      "cell_type": "markdown",
      "source": [
        "# 2"
      ],
      "metadata": {
        "id": "90FmSUr7K_u-"
      }
    },
    {
      "cell_type": "code",
      "source": [
        "\n",
        "sum=0\n",
        "number=int(input('Введите число:'))\n",
        "while number!=0:\n",
        "    sum=sum+number\n",
        "    number=int(input('Введите число:'))\n",
        "print('Результат:\\n', sum)"
      ],
      "metadata": {
        "colab": {
          "base_uri": "https://localhost:8080/"
        },
        "id": "YE7ZydXSLFvm",
        "outputId": "53c5b8f4-6317-4b66-c4e3-532fbea25b3e"
      },
      "execution_count": 9,
      "outputs": [
        {
          "output_type": "stream",
          "name": "stdout",
          "text": [
            "Введите число:1\n",
            "Введите число:4\n",
            "Введите число:6\n",
            "Введите число:0\n",
            "Результат:\n",
            " 11\n"
          ]
        }
      ]
    },
    {
      "cell_type": "code",
      "source": [
        "sum=0\n",
        "number=int(input('Введите число:'))\n",
        "while number!=0:\n",
        "    sum=sum+number\n",
        "    number=int(input('Введите число:'))\n",
        "print('Результат:\\n', sum)"
      ],
      "metadata": {
        "colab": {
          "base_uri": "https://localhost:8080/"
        },
        "id": "21dG4PEpMfrc",
        "outputId": "542b3ac1-8a60-4c8e-cac2-084adb3c395c"
      },
      "execution_count": 10,
      "outputs": [
        {
          "output_type": "stream",
          "name": "stdout",
          "text": [
            "Введите число:0\n",
            "Результат:\n",
            " 0\n"
          ]
        }
      ]
    },
    {
      "cell_type": "markdown",
      "source": [
        "#3\n"
      ],
      "metadata": {
        "id": "sh6FZkrnMoQL"
      }
    },
    {
      "cell_type": "code",
      "source": [
        "import copy\n",
        "i=0\n",
        "boys = ['Peter', 'Alex', 'John', 'Arthur', 'Richard']\n",
        "girls = ['Kate', 'Liza', 'Kira', 'Emma', 'Trisha']\n",
        "if len(boys)!=len(girls):\n",
        "    print('Внимание, кто-то может остаться без пары!')\n",
        "else:\n",
        "    boys_sorted=sorted(boys)\n",
        "    girls_sorted=sorted(girls)\n",
        "    print('Идеальные пары:')\n",
        "    while i < len(boys_sorted):\n",
        "        print(boys_sorted[i],'и',girls_sorted[i] )\n",
        "        i=i+1"
      ],
      "metadata": {
        "colab": {
          "base_uri": "https://localhost:8080/"
        },
        "id": "nvXmBf6jMrHr",
        "outputId": "c2c9b5f5-1538-478e-f8ed-36ec8130926a"
      },
      "execution_count": 11,
      "outputs": [
        {
          "output_type": "stream",
          "name": "stdout",
          "text": [
            "Идеальные пары:\n",
            "Alex и Emma\n",
            "Arthur и Kate\n",
            "John и Kira\n",
            "Peter и Liza\n",
            "Richard и Trisha\n"
          ]
        }
      ]
    },
    {
      "cell_type": "code",
      "source": [
        "import copy\n",
        "i=0\n",
        "boys = ['Peter', 'Alex', 'John', 'Arthur', 'Richard']\n",
        "girls = ['Kate', 'Liza', 'Kira', 'Emma', 'Trisha', 'Alice']\n",
        "if len(boys)!=len(girls):\n",
        "    print('Внимание, кто-то может остаться без пары!')\n",
        "else:\n",
        "    boys_sorted=sorted(boys)\n",
        "    girls_sorted=sorted(girls)\n",
        "    print('Идеальные пары:')\n",
        "    while i < len(boys_sorted):\n",
        "        print(boys_sorted[i],'и',girls_sorted[i] )\n",
        "        i=i+1"
      ],
      "metadata": {
        "colab": {
          "base_uri": "https://localhost:8080/"
        },
        "id": "N5uM6H_MM4Tq",
        "outputId": "eb2b58b8-2af7-4d1f-96e3-57f21d2b89db"
      },
      "execution_count": 12,
      "outputs": [
        {
          "output_type": "stream",
          "name": "stdout",
          "text": [
            "Внимание, кто-то может остаться без пары!\n"
          ]
        }
      ]
    },
    {
      "cell_type": "markdown",
      "source": [
        "#4\n"
      ],
      "metadata": {
        "id": "MbHglzJTNSpK"
      }
    },
    {
      "cell_type": "code",
      "source": [
        "import math\n",
        "i=0\n",
        "countries_temperature = [\n",
        "    ['Thailand', [75.2, 77, 78.8, 73.4, 68, 75.2, 77]],\n",
        "    ['Germany', [57.2, 55.4, 59, 59, 53.6]],\n",
        "    ['Russia', [35.6, 37.4, 39.2, 41, 42.8, 39.2, 35.6]],\n",
        "    ['Poland', [50, 50, 53.6, 57.2, 55.4, 55.4]]\n",
        "]\n",
        "\n",
        "while i < len(countries_temperature):\n",
        "    e=countries_temperature[i][1]\n",
        "    print(countries_temperature[i][0],'-',round((math.fsum(e)/len(e)-32)/1.8,1),'C')\n",
        "    i=i+1"
      ],
      "metadata": {
        "colab": {
          "base_uri": "https://localhost:8080/"
        },
        "id": "QKGU831qNV0i",
        "outputId": "9e97ec7a-c436-4b03-fc0e-3ec81ab924ff"
      },
      "execution_count": 13,
      "outputs": [
        {
          "output_type": "stream",
          "name": "stdout",
          "text": [
            "Thailand - 23.9 C\n",
            "Germany - 13.8 C\n",
            "Russia - 3.7 C\n",
            "Poland - 12.0 C\n"
          ]
        }
      ]
    }
  ]
}