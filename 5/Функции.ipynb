{
  "nbformat": 4,
  "nbformat_minor": 0,
  "metadata": {
    "colab": {
      "name": "Функции.ipynb",
      "provenance": [],
      "authorship_tag": "ABX9TyMKUZ0/bCTtNn/mahdjPdRk",
      "include_colab_link": true
    },
    "kernelspec": {
      "name": "python3",
      "display_name": "Python 3"
    },
    "language_info": {
      "name": "python"
    }
  },
  "cells": [
    {
      "cell_type": "markdown",
      "metadata": {
        "id": "view-in-github",
        "colab_type": "text"
      },
      "source": [
        "<a href=\"https://colab.research.google.com/github/musigr/study_netology/blob/main/5/%D0%A4%D1%83%D0%BD%D0%BA%D1%86%D0%B8%D0%B8.ipynb\" target=\"_parent\"><img src=\"https://colab.research.google.com/assets/colab-badge.svg\" alt=\"Open In Colab\"/></a>"
      ]
    },
    {
      "cell_type": "markdown",
      "source": [
        "Домашнее задание к лекции «Функции»\n"
      ],
      "metadata": {
        "id": "34P8aLc75O5i"
      }
    },
    {
      "cell_type": "markdown",
      "source": [
        "1"
      ],
      "metadata": {
        "id": "-ErgnLKc5Tzg"
      }
    },
    {
      "cell_type": "code",
      "source": [
        "documents = [\n",
        "{'type': 'passport', 'number': '2207 876234', 'name': 'Василий Гупкин'},\n",
        "{'type': 'invoice', 'number': '11-2', 'name': 'Геннадий Покемонов'},\n",
        "{'type': 'insurance', 'number': '10006', 'name': 'Аристарх Павлов'}\n",
        "]\n",
        "\n",
        "directories = {\n",
        "'1': ['2207 876234', '11-2'],\n",
        "'2': ['10006'],\n",
        "'3': []\n",
        "}"
      ],
      "metadata": {
        "id": "sq13f8n_5ZOr"
      },
      "execution_count": null,
      "outputs": []
    },
    {
      "cell_type": "code",
      "source": [
        "def owner(number_doc):\n",
        "    \"\"\"\n",
        "    Функция возвращает по номеру документа данные о его владельце\n",
        "    \"\"\"\n",
        "    owner_name = ''\n",
        "    for row in documents:\n",
        "        if row['number'] == number_doc:\n",
        "            owner_name = 'Владелец документа: ' + row['name']\n",
        "    if owner_name == '': \n",
        "        owner_name = 'Документ не найден в базе'\n",
        "    return owner_name"
      ],
      "metadata": {
        "id": "OhPG1t9S5iUv"
      },
      "execution_count": null,
      "outputs": []
    },
    {
      "cell_type": "code",
      "source": [
        "def doc_dir(number_doc):\n",
        "    \"\"\"\n",
        "    Функция возвращает по номеру документа данные о месте хранения\n",
        "    \"\"\"\n",
        "    shelf = ''\n",
        "    for item, values in directories.items():\n",
        "        if number_doc in values:\n",
        "            shelf = 'Документ хранится на полке: ' + item\n",
        "    if shelf == '':\n",
        "        shelf='Документ не найден в базе'\n",
        "    return shelf"
      ],
      "metadata": {
        "id": "u7gHzGyK5mwP"
      },
      "execution_count": null,
      "outputs": []
    },
    {
      "cell_type": "code",
      "source": [
        "def list_doc():\n",
        "    \"\"\"\n",
        "    Функция возвращает список документов на полках\n",
        "    \"\"\"\n",
        "    for i in documents:\n",
        "        for item, values in directories.items():\n",
        "            if i['number'] in values:\n",
        "                print('№ ' + i['number'] + ', тип: ' + i['type'] + ', владелец: ' + i['name'] + ', полка хранения: ' + item)"
      ],
      "metadata": {
        "id": "O8URb0Uq5q4P"
      },
      "execution_count": null,
      "outputs": []
    },
    {
      "cell_type": "code",
      "source": [
        "def list_shelf():\n",
        "    \"\"\"\n",
        "    Функция возвращает список полок\n",
        "    \"\"\"    \n",
        "    listshelf = ''\n",
        "    for item, values in directories.items():\n",
        "        listshelf = listshelf + item + ',' \n",
        "    listshelf = listshelf[:-1] + '.'\n",
        "    return listshelf"
      ],
      "metadata": {
        "id": "1C6lD4rm5vI4"
      },
      "execution_count": null,
      "outputs": []
    },
    {
      "cell_type": "code",
      "source": [
        "def del_shelf(number_shelf):\n",
        "    \"\"\"\n",
        "    Функция удаляе полку, если она не пустая\n",
        "    \"\"\"\n",
        "    count = 0\n",
        "    for item, values in directories.items():\n",
        "        if number_shelf in item:\n",
        "            count = 1\n",
        "            if values != []:\n",
        "                count = 2\n",
        "    if count == 1:\n",
        "        del directories[number_shelf]\n",
        "        print('Полка удалена. Текущий перечень полок: '+ list_shelf())\n",
        "    elif count == 2:\n",
        "        print('На полке есть документа, удалите их перед удалением полки. Текущий перечень полок: ' + list_shelf())\n",
        "    else:\n",
        "        print('Такая полка не существует. Текущий перечень полок: ' + list_shelf())"
      ],
      "metadata": {
        "id": "Wirny4EK5zjf"
      },
      "execution_count": null,
      "outputs": []
    },
    {
      "cell_type": "code",
      "source": [
        "def add_shelf(number_shelf):\n",
        "    \"\"\"\n",
        "    Функция добавляет полку, если такой ещё нет\n",
        "    \"\"\"    \n",
        "    count = 0\n",
        "    for item, values in directories.items():\n",
        "        if number_shelf in item:\n",
        "            count = 1\n",
        "    if count == 1:\n",
        "        print('Такая полка уже существует. Текущий перечень полок: ' + list_shelf())\n",
        "    else:\n",
        "        directories[number_shelf]=[]\n",
        "        print('Полка добавлена. Текущий перечень полок: '+ list_shelf())"
      ],
      "metadata": {
        "id": "irHRjeUe53wP"
      },
      "execution_count": null,
      "outputs": []
    },
    {
      "cell_type": "code",
      "source": [
        "def main():\n",
        "    \"\"\"\n",
        "    Основная функция автоматизации работы секретаря\n",
        "    \"\"\"\n",
        "    a = 0\n",
        "    while a < 1:\n",
        "        command_input=input('Введите команду: \\n')\n",
        "        if command_input == 'p':\n",
        "            number_input=input('Введите номер документа: \\n')\n",
        "            print(owner(number_input))\n",
        "        elif command_input == 's':\n",
        "            number_input=input('Введите номер документа: \\n')\n",
        "            print(doc_dir(number_input))\n",
        "        elif command_input == 'l':\n",
        "            list_doc()\n",
        "        elif command_input == 'as':\n",
        "            number_input=input('Введите номер полки: \\n')\n",
        "            add_shelf(number_input)\n",
        "        elif command_input == 'ds':\n",
        "            number_input=input('Введите номер полки: \\n')\n",
        "            del_shelf(number_input)\n",
        "        elif command_input == 'q':\n",
        "            break\n",
        "        else:\n",
        "            print('Нет такой команды')"
      ],
      "metadata": {
        "id": "z_nqGhAa58KP"
      },
      "execution_count": null,
      "outputs": []
    },
    {
      "cell_type": "code",
      "source": [
        "main()"
      ],
      "metadata": {
        "colab": {
          "base_uri": "https://localhost:8080/"
        },
        "id": "SzlywBG36DHn",
        "outputId": "0baee0c1-d5e1-4171-9a59-3524ff230cea"
      },
      "execution_count": null,
      "outputs": [
        {
          "output_type": "stream",
          "name": "stdout",
          "text": [
            "Введите команду: \n",
            "l\n",
            "№ 2207 876234, тип: passport, владелец: Василий Гупкин, полка хранения: 1\n",
            "№ 11-2, тип: invoice, владелец: Геннадий Покемонов, полка хранения: 1\n",
            "№ 10006, тип: insurance, владелец: Аристарх Павлов, полка хранения: 2\n",
            "Введите команду: \n",
            "as\n",
            "Введите номер полки: \n",
            "10\n",
            "Полка добавлена. Текущий перечень полок: 1,2,3,10.\n",
            "Введите команду: \n",
            "2\n",
            "Нет такой команды\n",
            "Введите команду: \n",
            "as\n",
            "Введите номер полки: \n",
            "3\n",
            "Такая полка уже существует. Текущий перечень полок: 1,2,3,10.\n",
            "Введите команду: \n",
            "ds\n",
            "Введите номер полки: \n",
            "1\n",
            "Полка удалена. Текущий перечень полок: 2,3,10.\n",
            "Введите команду: \n",
            "ds\n",
            "Введите номер полки: \n",
            "4\n",
            "Такая полка не существует. Текущий перечень полок: 2,3,10.\n"
          ]
        }
      ]
    }
  ]
}