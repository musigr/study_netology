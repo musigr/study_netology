{
  "nbformat": 4,
  "nbformat_minor": 0,
  "metadata": {
    "colab": {
      "name": "Untitled1.ipynb",
      "provenance": [],
      "authorship_tag": "ABX9TyO12b+O5x78HACCQAW35Ft7",
      "include_colab_link": true
    },
    "kernelspec": {
      "name": "python3",
      "display_name": "Python 3"
    },
    "language_info": {
      "name": "python"
    }
  },
  "cells": [
    {
      "cell_type": "markdown",
      "metadata": {
        "id": "view-in-github",
        "colab_type": "text"
      },
      "source": [
        "<a href=\"https://colab.research.google.com/github/musigr/study_netology/blob/main/6_File_system_%26_moduls/%D0%A0%D0%B0%D0%B1%D0%BE%D1%82%D0%B0_%D1%81_%D1%84%D0%B0%D0%B9%D0%BB%D0%B0%D0%BC%D0%B8_%D0%B8_%D0%BC%D0%BE%D0%B4%D1%83%D0%BB%D0%B8.ipynb\" target=\"_parent\"><img src=\"https://colab.research.google.com/assets/colab-badge.svg\" alt=\"Open In Colab\"/></a>"
      ]
    },
    {
      "cell_type": "code",
      "source": [
        "import json"
      ],
      "metadata": {
        "id": "EUW89QYQsWbl"
      },
      "execution_count": 2,
      "outputs": []
    },
    {
      "cell_type": "code",
      "source": [
        "new_dict={}\n",
        "with open('/content/purchase_log.txt', encoding='utf-8') as f :\n",
        "    for line in f:\n",
        "        line = line.strip()\n",
        "        dict_ = json.loads(line)\n",
        "        #print(dict_)\n",
        "        key=dict_['user_id']\n",
        "        value=dict_['category']\n",
        "        if key!='user_id':\n",
        "            new_dict.setdefault(key,value)"
      ],
      "metadata": {
        "id": "2n4im2rjszIj"
      },
      "execution_count": 5,
      "outputs": []
    },
    {
      "cell_type": "code",
      "source": [
        "with open('/content/visit_log.csv', 'r') as f, open('funnel.csv', 'w') as w_f:\n",
        "    for row in f:\n",
        "        line_list=row.strip().split(',')\n",
        "        if line_list[0] in new_dict.keys():\n",
        "            line_list.append(new_dict[line_list[0]])\n",
        "            add_line=','.join(line_list)\n",
        "        elif line_list[0]=='user_id':\n",
        "            line_list.append('category')\n",
        "            add_line=','.join(line_list)\n",
        "        else:\n",
        "            add_line=','.join(line_list)\n",
        "        w_f.write(add_line+'\\n')"
      ],
      "metadata": {
        "id": "ndTcfOyKuHlL"
      },
      "execution_count": 7,
      "outputs": []
    }
  ]
}