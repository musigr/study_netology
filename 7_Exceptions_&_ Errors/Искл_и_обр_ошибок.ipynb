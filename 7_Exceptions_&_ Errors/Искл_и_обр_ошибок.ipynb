{
  "nbformat": 4,
  "nbformat_minor": 0,
  "metadata": {
    "colab": {
      "name": "Искл_и_обр_ошибок.ipynb",
      "provenance": [],
      "authorship_tag": "ABX9TyMTO1AZVIFj6LP/fxUSjcCG",
      "include_colab_link": true
    },
    "kernelspec": {
      "name": "python3",
      "display_name": "Python 3"
    },
    "language_info": {
      "name": "python"
    }
  },
  "cells": [
    {
      "cell_type": "markdown",
      "metadata": {
        "id": "view-in-github",
        "colab_type": "text"
      },
      "source": [
        "<a href=\"https://colab.research.google.com/github/musigr/study_netology/blob/main/7_Exceptions_%26_%20Errors/%D0%98%D1%81%D0%BA%D0%BB_%D0%B8_%D0%BE%D0%B1%D1%80_%D0%BE%D1%88%D0%B8%D0%B1%D0%BE%D0%BA.ipynb\" target=\"_parent\"><img src=\"https://colab.research.google.com/assets/colab-badge.svg\" alt=\"Open In Colab\"/></a>"
      ]
    },
    {
      "cell_type": "markdown",
      "source": [
        "# Задача 1"
      ],
      "metadata": {
        "id": "7ZtlyG0ExPfx"
      }
    },
    {
      "cell_type": "code",
      "source": [
        "from datetime import datetime\n",
        "from datetime import timedelta"
      ],
      "metadata": {
        "id": "BsFoWvaRxRj5"
      },
      "execution_count": 2,
      "outputs": []
    },
    {
      "cell_type": "code",
      "source": [
        "date_moscow_times = 'Wednesday, October 2, 2002'\n",
        "date_moscow_times_datetime = datetime.strptime(date_moscow_times, '%A, %B %d, %Y')\n",
        "date_moscow_times_datetime, date_moscow_times_datetime.weekday()"
      ],
      "metadata": {
        "colab": {
          "base_uri": "https://localhost:8080/"
        },
        "id": "A2E7a4cJxYeG",
        "outputId": "022f3919-0c1f-441d-a1bf-34172011e4c1"
      },
      "execution_count": 3,
      "outputs": [
        {
          "output_type": "execute_result",
          "data": {
            "text/plain": [
              "(datetime.datetime(2002, 10, 2, 0, 0), 2)"
            ]
          },
          "metadata": {},
          "execution_count": 3
        }
      ]
    },
    {
      "cell_type": "code",
      "source": [
        "date_guardian = 'Friday, 11.10.13'\n",
        "date_guardian_datetime = datetime.strptime(date_guardian, '%A, %d.%m.%y')\n",
        "date_guardian_datetime, date_guardian_datetime.weekday()"
      ],
      "metadata": {
        "colab": {
          "base_uri": "https://localhost:8080/"
        },
        "id": "U7vY0_3lxeYG",
        "outputId": "59cce1aa-57d3-4c7a-f4d8-a0de6b5e92b6"
      },
      "execution_count": 4,
      "outputs": [
        {
          "output_type": "execute_result",
          "data": {
            "text/plain": [
              "(datetime.datetime(2013, 10, 11, 0, 0), 4)"
            ]
          },
          "metadata": {},
          "execution_count": 4
        }
      ]
    },
    {
      "cell_type": "code",
      "source": [
        "date_daily_news = 'Thursday, 18 August 1977'\n",
        "date_daily_news_datetime = datetime.strptime(date_daily_news, '%A, %d %B %Y')\n",
        "date_daily_news_datetime, date_daily_news_datetime.weekday()"
      ],
      "metadata": {
        "colab": {
          "base_uri": "https://localhost:8080/"
        },
        "id": "9J8E8f1WxnD_",
        "outputId": "ee2d81f1-f6e4-4f6e-89a6-013a03f12f1e"
      },
      "execution_count": 5,
      "outputs": [
        {
          "output_type": "execute_result",
          "data": {
            "text/plain": [
              "(datetime.datetime(1977, 8, 18, 0, 0), 3)"
            ]
          },
          "metadata": {},
          "execution_count": 5
        }
      ]
    },
    {
      "cell_type": "markdown",
      "source": [
        "#Задача 2"
      ],
      "metadata": {
        "id": "65fnzKlJyCw5"
      }
    },
    {
      "cell_type": "code",
      "source": [
        "stream = ['2018-04-02', '2018-02-29', '2018-19-02']\n",
        "def corr_format(stream_list):\n",
        "    for date in stream_list:\n",
        "        try:\n",
        "            corr_format_date = datetime.strptime(date,'%Y-%m-%d')         \n",
        "        except:\n",
        "            print(False, 'Некорректная дата:', date)         \n",
        "        else:\n",
        "            print(True, 'Дата корректна:', date)                        \n",
        "corr_format(stream)"
      ],
      "metadata": {
        "colab": {
          "base_uri": "https://localhost:8080/"
        },
        "id": "FMDX_p0QyGEw",
        "outputId": "51e4b501-8833-4570-98dc-7ca9b5bac2b4"
      },
      "execution_count": 6,
      "outputs": [
        {
          "output_type": "stream",
          "name": "stdout",
          "text": [
            "True Дата корректна: 2018-04-02\n",
            "False Некорректная дата: 2018-02-29\n",
            "False Некорректная дата: 2018-19-02\n"
          ]
        }
      ]
    },
    {
      "cell_type": "markdown",
      "source": [
        "#Задача 3"
      ],
      "metadata": {
        "id": "jNFu4GUByhsG"
      }
    },
    {
      "cell_type": "code",
      "source": [
        "def date_rage():    \n",
        "    start_date = input('Введите начальную дату: ')\n",
        "    end_date = input('Введите конечную дату: ')\n",
        "    try:\n",
        "        start_date_dt = datetime.strptime(start_date, '%Y-%m-%d')\n",
        "        end_date_dt = datetime.strptime(end_date, '%Y-%m-%d')\n",
        "    except:\n",
        "        return list()\n",
        "    if start_date_dt > end_date_dt:\n",
        "        return list()\n",
        "    date_list = []\n",
        "    current_dt = start_date_dt\n",
        "    while current_dt <= end_date_dt:\n",
        "        date_list.append(current_dt.strftime('%Y-%m-%d'))\n",
        "        current_dt += timedelta(days=1)\n",
        "    return date_list             \n",
        "date_rage()"
      ],
      "metadata": {
        "colab": {
          "base_uri": "https://localhost:8080/"
        },
        "id": "YKqzJIJzykM9",
        "outputId": "1b10677c-8b14-4d37-dbe3-5b6917c067f0"
      },
      "execution_count": 7,
      "outputs": [
        {
          "name": "stdout",
          "output_type": "stream",
          "text": [
            "Введите начальную дату: 1998-04-30\n",
            "Введите конечную дату: 1998-05-15\n"
          ]
        },
        {
          "output_type": "execute_result",
          "data": {
            "text/plain": [
              "['1998-04-30',\n",
              " '1998-05-01',\n",
              " '1998-05-02',\n",
              " '1998-05-03',\n",
              " '1998-05-04',\n",
              " '1998-05-05',\n",
              " '1998-05-06',\n",
              " '1998-05-07',\n",
              " '1998-05-08',\n",
              " '1998-05-09',\n",
              " '1998-05-10',\n",
              " '1998-05-11',\n",
              " '1998-05-12',\n",
              " '1998-05-13',\n",
              " '1998-05-14',\n",
              " '1998-05-15']"
            ]
          },
          "metadata": {},
          "execution_count": 7
        }
      ]
    },
    {
      "cell_type": "code",
      "source": [
        "def date_rage():    \n",
        "    start_date = input('Введите начальную дату: ')\n",
        "    end_date = input('Введите конечную дату: ')\n",
        "    try:\n",
        "        start_date_dt = datetime.strptime(start_date, '%Y-%m-%d')\n",
        "        end_date_dt = datetime.strptime(end_date, '%Y-%m-%d')\n",
        "    except:\n",
        "        return list()\n",
        "    if start_date_dt > end_date_dt:\n",
        "        return list()\n",
        "    date_list = []\n",
        "    current_dt = start_date_dt\n",
        "    while current_dt <= end_date_dt:\n",
        "        date_list.append(current_dt.strftime('%Y-%m-%d'))\n",
        "        current_dt += timedelta(days=1)\n",
        "    return date_list             \n",
        "date_rage()"
      ],
      "metadata": {
        "colab": {
          "base_uri": "https://localhost:8080/"
        },
        "id": "QqwVr35YzOhH",
        "outputId": "03e293fc-c063-45db-fb80-0e9af0a72426"
      },
      "execution_count": 9,
      "outputs": [
        {
          "name": "stdout",
          "output_type": "stream",
          "text": [
            "Введите начальную дату: 2022-02-01\n",
            "Введите конечную дату: 2022-01-30\n"
          ]
        },
        {
          "output_type": "execute_result",
          "data": {
            "text/plain": [
              "[]"
            ]
          },
          "metadata": {},
          "execution_count": 9
        }
      ]
    }
  ]
}