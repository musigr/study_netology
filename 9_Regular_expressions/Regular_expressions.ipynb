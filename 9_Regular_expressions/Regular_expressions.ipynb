{
  "nbformat": 4,
  "nbformat_minor": 0,
  "metadata": {
    "colab": {
      "name": "Untitled6.ipynb",
      "provenance": [],
      "authorship_tag": "ABX9TyOVwoSZfOenfyiw+zVmireu",
      "include_colab_link": true
    },
    "kernelspec": {
      "name": "python3",
      "display_name": "Python 3"
    },
    "language_info": {
      "name": "python"
    }
  },
  "cells": [
    {
      "cell_type": "markdown",
      "metadata": {
        "id": "view-in-github",
        "colab_type": "text"
      },
      "source": [
        "<a href=\"https://colab.research.google.com/github/musigr/study_netology/blob/main/9_Regular_expressions/Regular_expressions.ipynb\" target=\"_parent\"><img src=\"https://colab.research.google.com/assets/colab-badge.svg\" alt=\"Open In Colab\"/></a>"
      ]
    },
    {
      "cell_type": "markdown",
      "source": [
        "# Задание 1"
      ],
      "metadata": {
        "id": "vLqe5f9-W4Pt"
      }
    },
    {
      "cell_type": "code",
      "execution_count": 4,
      "metadata": {
        "id": "LjHtl3zqWKDL"
      },
      "outputs": [],
      "source": [
        "import re"
      ]
    },
    {
      "cell_type": "code",
      "source": [
        "number_car=input('Введите гос номер')\n",
        "def print_num_reg(number):\n",
        "    regex_number='^[АВЕКМНОРСТУХ]\\d{3}(?<!000)[АВЕКМНОРСТУХ]{2}\\d{2,3}'\n",
        "    if re.match(regex_number, number):\n",
        "        print('Номер {} правильный'.format(number))\n",
        "        regex=r'\\d+'\n",
        "        number_and_region=re.findall(regex, number)\n",
        "        return number_and_region\n",
        "    else:\n",
        "        print ('Номер неверный!')\n",
        "print_num_reg(number_car)"
      ],
      "metadata": {
        "colab": {
          "base_uri": "https://localhost:8080/"
        },
        "id": "aVeFbtwiWMQ8",
        "outputId": "3b735256-00fa-4d2a-9041-ba715ce897c1"
      },
      "execution_count": 6,
      "outputs": [
        {
          "output_type": "stream",
          "name": "stdout",
          "text": [
            "Введите гос номерА222BС96\n",
            "Номер неверный!\n"
          ]
        }
      ]
    },
    {
      "cell_type": "markdown",
      "source": [
        "# Задание 2"
      ],
      "metadata": {
        "id": "AzR8gg7EZGbY"
      }
    },
    {
      "cell_type": "code",
      "source": [
        "def regex_replay(string):\n",
        "    regex=r'(.+?)\\1+'\n",
        "    result=re.sub(regex, r'\\1',string)\n",
        "    return result\n",
        "regex_replay('Напишите функцию функцию, которая будет будет будет будет удалять все все все все последовательные повторы слов из из из из заданной строки строки при помощи регулярных выражений')"
      ],
      "metadata": {
        "colab": {
          "base_uri": "https://localhost:8080/",
          "height": 35
        },
        "id": "rYft1PcbZI3v",
        "outputId": "b34cb3a8-52eb-431c-e6e6-d43d9334d01c"
      },
      "execution_count": 11,
      "outputs": [
        {
          "output_type": "execute_result",
          "data": {
            "text/plain": [
              "'Напишите функцию, которая будет удалять все последовательные повторы слов из заданой строки при помощи регулярных выражений'"
            ],
            "application/vnd.google.colaboratory.intrinsic+json": {
              "type": "string"
            }
          },
          "metadata": {},
          "execution_count": 11
        }
      ]
    },
    {
      "cell_type": "markdown",
      "source": [
        "# Задание 3"
      ],
      "metadata": {
        "id": "Kfds6e99Y1To"
      }
    },
    {
      "cell_type": "code",
      "source": [
        "import re\n",
        "print_str=input()\n",
        "def print_acronym(string):\n",
        "    regex=r'(\\b\\w)'\n",
        "    list_find=re.findall(regex, string)\n",
        "    str_find=''.join(list_find)\n",
        "    return (str_find)\n",
        "print_acronym(print_str)"
      ],
      "metadata": {
        "colab": {
          "base_uri": "https://localhost:8080/",
          "height": 53
        },
        "id": "tZMeuXQ_YbiZ",
        "outputId": "593c7079-d818-4ff2-97bf-8e8d1f243584"
      },
      "execution_count": 9,
      "outputs": [
        {
          "name": "stdout",
          "output_type": "stream",
          "text": [
            "Near Field Communication\n"
          ]
        },
        {
          "output_type": "execute_result",
          "data": {
            "text/plain": [
              "'NFC'"
            ],
            "application/vnd.google.colaboratory.intrinsic+json": {
              "type": "string"
            }
          },
          "metadata": {},
          "execution_count": 9
        }
      ]
    },
    {
      "cell_type": "markdown",
      "source": [
        "# Задание 4"
      ],
      "metadata": {
        "id": "tYpdQ6R4bD_E"
      }
    },
    {
      "cell_type": "code",
      "source": [
        "import re"
      ],
      "metadata": {
        "id": "tNatsOimcRYK"
      },
      "execution_count": 17,
      "outputs": []
    },
    {
      "cell_type": "code",
      "source": [
        "email=input()\n",
        "def email_check(email_entered):\n",
        "    email_rendex='(^|\\s)[-a-z0-9_.]+@([-a-z0-9]+\\.)+[a-z]{2,6}(\\s|$)'\n",
        "    if re.match(email_rendex, email_entered):\n",
        "        print('Email верный {}'.format(email_entered))\n",
        "    else:\n",
        "        print ('Неверная информация!')\n",
        "email_check(email)"
      ],
      "metadata": {
        "colab": {
          "base_uri": "https://localhost:8080/"
        },
        "id": "Zga19QkdcTUL",
        "outputId": "5182c4df-3541-4146-a7ad-86ea50e40b0b"
      },
      "execution_count": 19,
      "outputs": [
        {
          "output_type": "stream",
          "name": "stdout",
          "text": [
            "test@gmail.com\n",
            "Email верный test@gmail.com\n"
          ]
        }
      ]
    }
  ]
}