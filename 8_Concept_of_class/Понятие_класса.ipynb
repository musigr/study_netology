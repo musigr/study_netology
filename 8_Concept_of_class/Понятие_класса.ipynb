{
  "nbformat": 4,
  "nbformat_minor": 0,
  "metadata": {
    "colab": {
      "name": "Понятие_класса.ipynb",
      "provenance": [],
      "authorship_tag": "ABX9TyNPPhNqxRfLqVPZALuf6d+X",
      "include_colab_link": true
    },
    "kernelspec": {
      "name": "python3",
      "display_name": "Python 3"
    },
    "language_info": {
      "name": "python"
    }
  },
  "cells": [
    {
      "cell_type": "markdown",
      "metadata": {
        "id": "view-in-github",
        "colab_type": "text"
      },
      "source": [
        "<a href=\"https://colab.research.google.com/github/musigr/study_netology/blob/main/8_Concept_of_class/%D0%9F%D0%BE%D0%BD%D1%8F%D1%82%D0%B8%D0%B5_%D0%BA%D0%BB%D0%B0%D1%81%D1%81%D0%B0.ipynb\" target=\"_parent\"><img src=\"https://colab.research.google.com/assets/colab-badge.svg\" alt=\"Open In Colab\"/></a>"
      ]
    },
    {
      "cell_type": "markdown",
      "source": [
        "# Задание 1"
      ],
      "metadata": {
        "id": "OM4V2rCA9XaD"
      }
    },
    {
      "cell_type": "code",
      "source": [
        "import requests"
      ],
      "metadata": {
        "id": "4lc3fh0t9YTK"
      },
      "execution_count": 10,
      "outputs": []
    },
    {
      "cell_type": "code",
      "source": [
        "class Rate:\n",
        "    def __init__(self, format_='value'):\n",
        "        self.format = format_\n",
        "    \n",
        "    def exchange_rates(self):\n",
        "        \"\"\"\n",
        "        Возвращает ответ сервиса с информацией о валютах в виде:\n",
        "        \n",
        "        {\n",
        "            'AMD': {\n",
        "                'CharCode': 'AMD',\n",
        "                'ID': 'R01060',\n",
        "                'Name': 'Армянских драмов',\n",
        "                'Nominal': 100,\n",
        "                'NumCode': '051',\n",
        "                'Previous': 14.103,\n",
        "                'Value': 14.0879\n",
        "                },\n",
        "            ...\n",
        "        }\n",
        "        \"\"\"\n",
        "        r = requests.get('https://www.cbr-xml-daily.ru/daily_json.js')\n",
        "        return r.json()['Valute']\n",
        "    \n",
        "    def make_format(self, currency):\n",
        "        \"\"\"\n",
        "        Возвращает информацию о валюте currency в двух вариантах:\n",
        "        - полная информация о валюте при self.format = 'full':\n",
        "        Rate('full').make_format('EUR')\n",
        "        {\n",
        "            'CharCode': 'EUR',\n",
        "            'ID': 'R01239',\n",
        "            'Name': 'Евро',\n",
        "            'Nominal': 1,\n",
        "            'NumCode': '978',\n",
        "            'Previous': 79.6765,\n",
        "            'Value': 79.4966\n",
        "        }\n",
        "        \n",
        "        Rate('value').make_format('EUR')\n",
        "        79.4966\n",
        "        \"\"\"\n",
        "        response = self.exchange_rates()\n",
        "        \n",
        "        if currency in response:\n",
        "            if self.format == 'full':\n",
        "                return response[currency]\n",
        "            \n",
        "            if self.format == 'value':\n",
        "                return response[currency]['Value']\n",
        "        \n",
        "        return 'Error'\n",
        "    \n",
        "    def eur(self):\n",
        "        \"\"\"Возвращает курс евро на сегодня в формате self.format\"\"\"\n",
        "        return self.make_format('EUR')\n",
        "    \n",
        "    def usd(self):\n",
        "        \"\"\"Возвращает курс доллара на сегодня в формате self.format\"\"\"\n",
        "        return self.make_format('USD')\n",
        "    \n",
        "    def brl(self):\n",
        "        \"\"\"Возвращает курс бразильского реала на сегодня в формате self.format\"\"\"\n",
        "        return self.make_format('BRL')\n",
        "    \n",
        "    def max_cource(self):\n",
        "        response = self.exchange_rates()\n",
        "        max_course=0\n",
        "        for row in response.values():\n",
        "            value=row['Value']\n",
        "            if max_course<=value:\n",
        "                max_course=value\n",
        "                name=row['Name']\n",
        "        print(row['Name'], max_course)"
      ],
      "metadata": {
        "id": "W7MDfePd9hox"
      },
      "execution_count": 11,
      "outputs": []
    },
    {
      "cell_type": "code",
      "source": [
        "Rate().max_cource()"
      ],
      "metadata": {
        "colab": {
          "base_uri": "https://localhost:8080/"
        },
        "id": "9nhKLM5x9opF",
        "outputId": "364dd2e1-5e03-4b29-9dbb-2832fe5eed4a"
      },
      "execution_count": 12,
      "outputs": [
        {
          "output_type": "stream",
          "name": "stdout",
          "text": [
            "Японских иен 143.5811\n"
          ]
        }
      ]
    },
    {
      "cell_type": "markdown",
      "source": [
        "# Задание 2"
      ],
      "metadata": {
        "id": "XoO2l6tA_At-"
      }
    },
    {
      "cell_type": "code",
      "source": [
        "class Rate:\n",
        "    def __init__(self, format_='value', check='True'):\n",
        "        self.format = format_\n",
        "        self.check = check\n",
        "    \n",
        "    def exchange_rates(self):\n",
        "        r = requests.get('https://www.cbr-xml-daily.ru/daily_json.js')\n",
        "        return r.json()['Valute']\n",
        "    \n",
        "    def diff(self, check):\n",
        "        self.check=check\n",
        "    \n",
        "    def make_format(self, currency):\n",
        "        response = self.exchange_rates()\n",
        "        if currency in response:\n",
        "            if self.format == 'full':\n",
        "                return response[currency]\n",
        "            \n",
        "            if self.format == 'value':\n",
        "                if self.check=='True':\n",
        "                    difference=response[currency]['Previous']-response[currency]['Value']\n",
        "                    return difference\n",
        "                else:    \n",
        "                    return response[currency]['Value']\n",
        "        \n",
        "            return 'Error'\n",
        "    \n",
        "\n",
        "    \n",
        "    def eur(self):\n",
        "        \"\"\"Возвращает курс евро на сегодня в формате self.format\"\"\"\n",
        "        return self.make_format('EUR')\n",
        "    \n",
        "    def usd(self):\n",
        "        \"\"\"Возвращает курс доллара на сегодня в формате self.format\"\"\"\n",
        "        return self.make_format('USD')\n",
        "    \n",
        "    def brl(self):\n",
        "        \"\"\"Возвращает курс бразильского реала на сегодня в формате self.format\"\"\"\n",
        "        return self.make_format('BRL')\n",
        "    \n"
      ],
      "metadata": {
        "id": "P11XAB2M97d5"
      },
      "execution_count": 13,
      "outputs": []
    },
    {
      "cell_type": "code",
      "source": [
        "Rate('value', 'False').eur()"
      ],
      "metadata": {
        "colab": {
          "base_uri": "https://localhost:8080/"
        },
        "id": "LU2GBiYD-NwA",
        "outputId": "4fc76354-187b-4ab0-e88e-1a298c37dfb9"
      },
      "execution_count": 14,
      "outputs": [
        {
          "output_type": "execute_result",
          "data": {
            "text/plain": [
              "114.3996"
            ]
          },
          "metadata": {},
          "execution_count": 14
        }
      ]
    },
    {
      "cell_type": "markdown",
      "source": [
        "# Задание 3"
      ],
      "metadata": {
        "id": "YgGm8Wcq_M1W"
      }
    },
    {
      "cell_type": "code",
      "source": [
        "class Employee:\n",
        "    def __init__(self, name, seniority, awards):\n",
        "        self.name = name\n",
        "        self.seniority = seniority\n",
        "        self.awards= awards\n",
        "        \n",
        "        self.grade = 1\n",
        "    \n",
        "    def grade_up(self):\n",
        "        \"\"\"Повышает уровень сотрудника\"\"\"\n",
        "        self.grade += 1\n",
        "    \n",
        "    def publish_grade(self):\n",
        "        \"\"\"Публикация результатов аккредитации сотрудников\"\"\"\n",
        "        print(self.name, self.grade)\n",
        "class Developer(Employee):\n",
        "    def __init__(self, name, seniority, awards=0):\n",
        "        super().__init__(name, seniority, awards=0)\n",
        "    \n",
        "    def check_if_it_is_time_for_upgrade(self):\n",
        "        # для каждой аккредитации увеличиваем счетчик на 1\n",
        "        # пока считаем, что все разработчики проходят аккредитацию\n",
        "        self.seniority += 1\n",
        "        \n",
        "        # условие повышения сотрудника из презентации\n",
        "        if self.seniority % 5 == 0:\n",
        "            self.grade_up()\n",
        "        \n",
        "        # публикация результатов\n",
        "        return self.publish_grade()\n",
        "\n",
        "class Designer(Employee):\n",
        "    def __init__(self, name, seniority, awards):\n",
        "        super().__init__(name, seniority, awards)\n",
        "        \n",
        "    def check_if_it_is_time_for_upgrade(self):\n",
        "        if self.seniority==0: \n",
        "            self.seniority=1+self.awards*2\n",
        "        else:\n",
        "            self.seniority+=1\n",
        "        if self.seniority % 7==0:\n",
        "                self.grade_up()\n",
        "        \n",
        "        return self.publish_grade()"
      ],
      "metadata": {
        "id": "CeLIhxZ2-XTX"
      },
      "execution_count": 15,
      "outputs": []
    },
    {
      "cell_type": "code",
      "source": [
        "elena = Designer('Елена', seniority=0, awards=2)"
      ],
      "metadata": {
        "id": "4Qu4R7WW-dxh"
      },
      "execution_count": 16,
      "outputs": []
    },
    {
      "cell_type": "code",
      "source": [
        "for i in range(20):\n",
        "    elena.check_if_it_is_time_for_upgrade()"
      ],
      "metadata": {
        "colab": {
          "base_uri": "https://localhost:8080/"
        },
        "id": "I43gZBVl-jeP",
        "outputId": "7615a90f-0ae8-4549-a872-b661904b49e3"
      },
      "execution_count": 17,
      "outputs": [
        {
          "output_type": "stream",
          "name": "stdout",
          "text": [
            "Елена 1\n",
            "Елена 1\n",
            "Елена 2\n",
            "Елена 2\n",
            "Елена 2\n",
            "Елена 2\n",
            "Елена 2\n",
            "Елена 2\n",
            "Елена 2\n",
            "Елена 3\n",
            "Елена 3\n",
            "Елена 3\n",
            "Елена 3\n",
            "Елена 3\n",
            "Елена 3\n",
            "Елена 3\n",
            "Елена 4\n",
            "Елена 4\n",
            "Елена 4\n",
            "Елена 4\n"
          ]
        }
      ]
    }
  ]
}