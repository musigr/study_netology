{
  "nbformat": 4,
  "nbformat_minor": 0,
  "metadata": {
    "colab": {
      "name": "Копия блокнота \"Задание_Основы_Питона.ipynb\"",
      "provenance": [],
      "collapsed_sections": [],
      "authorship_tag": "ABX9TyPoJguZzXniR3HjbXQSSO1Q",
      "include_colab_link": true
    },
    "kernelspec": {
      "name": "python3",
      "display_name": "Python 3"
    },
    "language_info": {
      "name": "python"
    }
  },
  "cells": [
    {
      "cell_type": "markdown",
      "metadata": {
        "id": "view-in-github",
        "colab_type": "text"
      },
      "source": [
        "<a href=\"https://colab.research.google.com/github/musigr/study_netology/blob/main/1/%D0%9A%D0%BE%D0%BF%D0%B8%D1%8F_%D0%B1%D0%BB%D0%BE%D0%BA%D0%BD%D0%BE%D1%82%D0%B0_%22%D0%97%D0%B0%D0%B4%D0%B0%D0%BD%D0%B8%D0%B5_%D0%9E%D1%81%D0%BD%D0%BE%D0%B2%D1%8B_%D0%9F%D0%B8%D1%82%D0%BE%D0%BD%D0%B0_ipynb%22.ipynb\" target=\"_parent\"><img src=\"https://colab.research.google.com/assets/colab-badge.svg\" alt=\"Open In Colab\"/></a>"
      ]
    },
    {
      "cell_type": "markdown",
      "source": [
        "Домашнее задание по теме «Основы Python»"
      ],
      "metadata": {
        "id": "Fmh_mm8hvPGV"
      }
    },
    {
      "cell_type": "code",
      "source": [
        "phrase_1=str(input('Введите фразу 1:'))\n",
        "phrase_2=str(input('Введите фразу 2:'))\n",
        "if len(phrase_1)>len(phrase_2): \n",
        "    print('Фраза 1 длиннее фразы 2')\n",
        "elif len(phrase_1)<len(phrase_2): \n",
        "    print('Фраза 2 длиннее фразы 1')\n",
        "else: print('Фразы равны')"
      ],
      "metadata": {
        "colab": {
          "base_uri": "https://localhost:8080/"
        },
        "id": "_lOEYdvmvPx0",
        "outputId": "4d0df7fc-c000-44c4-ecf3-414bd39ac8a1"
      },
      "execution_count": null,
      "outputs": [
        {
          "output_type": "stream",
          "name": "stdout",
          "text": [
            "Введите фразу 1:Насколько проще было бы писать программы, если бы не заказчики\n",
            "Введите фразу 2:640Кб должно хватить для любых задач. \n",
            "Фраза 1 длиннее фразы 2\n"
          ]
        }
      ]
    },
    {
      "cell_type": "markdown",
      "source": [
        ""
      ],
      "metadata": {
        "id": "Mq5l7ePHV-bW"
      }
    },
    {
      "cell_type": "code",
      "source": [
        "phrase_1=str(input('Введите фразу 1:'))\n",
        "phrase_2=str(input('Введите фразу 2:'))\n",
        "if len(phrase_1)>len(phrase_2): \n",
        "    print('Фраза 1 длиннее фразы 2')\n",
        "elif len(phrase_1)<len(phrase_2): \n",
        "    print('Фраза 2 длиннее фразы 1')\n",
        "else: print('Фразы равны')"
      ],
      "metadata": {
        "colab": {
          "base_uri": "https://localhost:8080/"
        },
        "id": "p-3_P4fKv9fa",
        "outputId": "f1f18f87-e791-406c-cf44-8a5287f99969"
      },
      "execution_count": null,
      "outputs": [
        {
          "output_type": "stream",
          "name": "stdout",
          "text": [
            "Введите фразу 1:640Кб должно хватить для любых задач. Билл Гейтс (по легенде)\n",
            "Введите фразу 2:Насколько проще было бы писать программы, если бы не заказчики\n",
            "Фраза 2 длиннее фразы 1\n"
          ]
        }
      ]
    },
    {
      "cell_type": "code",
      "source": [
        "phrase_1=str(input('Введите фразу 1:'))\n",
        "phrase_2=str(input('Введите фразу 2:'))\n",
        "if len(phrase_1)>len(phrase_2): \n",
        "    print('Фраза 1 длиннее фразы 2')\n",
        "elif len(phrase_1)<len(phrase_2): \n",
        "    print('Фраза 2 длиннее фразы 1')\n",
        "else: print('Фразы равны')"
      ],
      "metadata": {
        "colab": {
          "base_uri": "https://localhost:8080/"
        },
        "id": "uV-YBzRAwgwR",
        "outputId": "4babf7e4-5abc-4dc8-c395-de79b5491b7d"
      },
      "execution_count": null,
      "outputs": [
        {
          "output_type": "stream",
          "name": "stdout",
          "text": [
            "Введите фразу 1:Насколько проще было бы писать программы, если бы не заказчики\n",
            "Введите фразу 2:Насколько проще было бы писать программы, если бы не заказчики\n",
            "Фразы равны\n"
          ]
        }
      ]
    },
    {
      "cell_type": "markdown",
      "source": [
        "Задание 2"
      ],
      "metadata": {
        "id": "TvitRSezw_v6"
      }
    },
    {
      "cell_type": "code",
      "source": [
        "year = int(input('Введите год:'))\n",
        "if (year % 4 == 0) and (year % 100 != 0) or (year % 400 == 0):\n",
        "    print('Високосный год')\n",
        "else:\n",
        "    print('Обычный год')"
      ],
      "metadata": {
        "colab": {
          "base_uri": "https://localhost:8080/"
        },
        "id": "ngf0wAESxDbp",
        "outputId": "26dc08b9-e6a7-4056-9e9c-0aee6922ef76"
      },
      "execution_count": null,
      "outputs": [
        {
          "output_type": "stream",
          "name": "stdout",
          "text": [
            "Введите год:2019\n",
            "Обычный год\n"
          ]
        }
      ]
    },
    {
      "cell_type": "code",
      "source": [
        "year = int(input('Введите год:'))\n",
        "if (year % 4 == 0) and (year % 100 != 0) or (year % 400 == 0):\n",
        "    print('Високосный год')\n",
        "else:\n",
        "    print('Обычный год')"
      ],
      "metadata": {
        "colab": {
          "base_uri": "https://localhost:8080/"
        },
        "id": "Moe-an-KxZvx",
        "outputId": "3020d6ac-63ee-4bad-affa-fafdaf4e57b8"
      },
      "execution_count": null,
      "outputs": [
        {
          "output_type": "stream",
          "name": "stdout",
          "text": [
            "Введите год:2020\n",
            "Високосный год\n"
          ]
        }
      ]
    },
    {
      "cell_type": "markdown",
      "source": [
        "Задание 3"
      ],
      "metadata": {
        "id": "h-MyXBPyxopW"
      }
    },
    {
      "cell_type": "code",
      "source": [
        "Month=str(input('Введите месяц рождения:'))\n",
        "Day=int(input('Введите дату рождения:'))\n",
        "if ((Month=='Декабрь' and Day >= 22)or(Month=='Январь' and Day<= 19)):\n",
        "        zodiac_sign = (\"\\n Козерог\")\n",
        "elif ((Month=='Январь' and Day >= 20)or(Month=='Февраль' and Day<= 17)):\n",
        "        zodiac_sign = (\"\\n Водолей\")\n",
        "elif ((Month=='Февраль' and Day >= 18)or(Month=='Март' and Day<= 19)):\n",
        "        zodiac_sign = (\"\\n Рыбы\")\n",
        "elif ((Month=='Март' and Day >= 20)or(Month=='Апрель' and Day<= 19)):\n",
        "        zodiac_sign = (\"\\n Овен\")\n",
        "elif ((Month=='Апрель' and Day >= 20)or(Month=='Май' and Day<= 20)):\n",
        "        zodiac_sign = (\"\\n Телец\")\n",
        "elif ((Month=='Май' and Day >= 21)or(Month=='Июнь' and Day<= 20)):\n",
        "        zodiac_sign = (\"\\n Близнецы\")\n",
        "elif ((Month=='Июнь' and Day >= 21)or(Month=='Июль' and Day<= 22)):\n",
        "        zodiac_sign = (\"\\n Рак\")\n",
        "elif ((Month=='Июль' and Day >= 23)or(Month=='Август' and Day<= 22)): \n",
        "        zodiac_sign = (\"\\n Лев\")\n",
        "elif ((Month=='Август' and Day >= 23)or(Month=='Сентябрь' and Day<= 22)): \n",
        "        Signo_Zodiacal = (\"\\n Дева\")\n",
        "elif ((Month=='Сентябрь' and Day >= 23)or(Month=='Октябрь' and Day<= 22)):\n",
        "        zodiac_sign = (\"\\n Весы\")\n",
        "elif ((Month=='Октябрь' and Day >= 23)or(Month=='Ноябрь' and Day<= 21)): \n",
        "        zodiac_sign = (\"\\n Скорпион\")\n",
        "elif ((Month=='Ноябрь' and Day >= 22)or(Month=='Декабрь' and Day<= 21)):\n",
        "        zodiac_sign = (\"\\n Стрелец\")\n",
        "print('Ваш знак:', zodiac_sign)"
      ],
      "metadata": {
        "colab": {
          "base_uri": "https://localhost:8080/"
        },
        "id": "0ofzXGv_xq0G",
        "outputId": "06e801b9-cc8d-49f9-dfe8-dd809a71cc01"
      },
      "execution_count": null,
      "outputs": [
        {
          "output_type": "stream",
          "name": "stdout",
          "text": [
            "Введите месяц рождения:Декабрь\n",
            "Введите дату рождения:1\n",
            "Ваш знак: \n",
            " Стрелец\n"
          ]
        }
      ]
    },
    {
      "cell_type": "code",
      "source": [
        ""
      ],
      "metadata": {
        "id": "m0uFj1G3X9-S"
      },
      "execution_count": null,
      "outputs": []
    },
    {
      "cell_type": "markdown",
      "source": [
        "Задание 4"
      ],
      "metadata": {
        "id": "yvVfGFeqyJj1"
      }
    },
    {
      "cell_type": "code",
      "source": [
        "width = 10\n",
        "length = 205\n",
        "height = 5\n",
        "if width<15 and length<15 and height<15:\n",
        "    print ('Коробка №1')\n",
        "elif (width>15 or length>15 or height>15) and (width<50 or length<50 or height<50):\n",
        "    print ('Коробка №2')\n",
        "elif length>200:\n",
        "    print ('Упаковка для лыж')\n",
        "else:\n",
        "    print ('Стандартная коробка №3')"
      ],
      "metadata": {
        "colab": {
          "base_uri": "https://localhost:8080/"
        },
        "id": "7WwopjSpyLpm",
        "outputId": "7c277a11-8f2f-4cdc-eb92-27389104269e"
      },
      "execution_count": null,
      "outputs": [
        {
          "output_type": "stream",
          "name": "stdout",
          "text": [
            "Коробка №2\n"
          ]
        }
      ]
    },
    {
      "cell_type": "markdown",
      "source": [
        "Задание 5"
      ],
      "metadata": {
        "id": "7ixBxnC9yWml"
      }
    },
    {
      "cell_type": "code",
      "source": [
        "number=12345\n",
        "a=number//100000\n",
        "b=(number-a*100000)//10000\n",
        "c=(number-a*100000-b*10000)//1000\n",
        "d=(number-a*100000-b*10000-c*1000)//100\n",
        "e=(number-a*100000-b*10000-c*1000-d*100)//10\n",
        "f=number%10\n",
        "#print(a,b,c,d,e,f)\n",
        "if a+b+c==d+e+f:\n",
        "    print('Cчастливый билет')\n",
        "else:\n",
        "    print('Несчастливый билет')"
      ],
      "metadata": {
        "colab": {
          "base_uri": "https://localhost:8080/"
        },
        "id": "4I_HwNl8yaSF",
        "outputId": "88f8184d-49f9-4d75-9ada-1d4948ae21cd"
      },
      "execution_count": null,
      "outputs": [
        {
          "output_type": "stream",
          "name": "stdout",
          "text": [
            "Несчастливый билет\n"
          ]
        }
      ]
    },
    {
      "cell_type": "code",
      "source": [
        "number=123321\n",
        "a=number//100000\n",
        "b=(number-a*100000)//10000\n",
        "c=(number-a*100000-b*10000)//1000\n",
        "d=(number-a*100000-b*10000-c*1000)//100\n",
        "e=(number-a*100000-b*10000-c*1000-d*100)//10\n",
        "f=number%10\n",
        "#print(a,b,c,d,e,f)\n",
        "if a+b+c==d+e+f:\n",
        "    print('Cчастливый билет')\n",
        "else:\n",
        "    print('Несчастливый билет')"
      ],
      "metadata": {
        "colab": {
          "base_uri": "https://localhost:8080/"
        },
        "id": "TMBEXf13y7o0",
        "outputId": "da27e4a7-949c-4690-8466-069e768d3fbe"
      },
      "execution_count": null,
      "outputs": [
        {
          "output_type": "stream",
          "name": "stdout",
          "text": [
            "Cчастливый билет\n"
          ]
        }
      ]
    }
  ]
}
