{
  "nbformat": 4,
  "nbformat_minor": 0,
  "metadata": {
    "colab": {
      "name": "Упр конструкции Часть 2.ipynb",
      "provenance": [],
      "collapsed_sections": [],
      "authorship_tag": "ABX9TyPdSgmAqFa95C5vLsU5zFUv",
      "include_colab_link": true
    },
    "kernelspec": {
      "name": "python3",
      "display_name": "Python 3"
    },
    "language_info": {
      "name": "python"
    }
  },
  "cells": [
    {
      "cell_type": "markdown",
      "metadata": {
        "id": "view-in-github",
        "colab_type": "text"
      },
      "source": [
        "<a href=\"https://colab.research.google.com/github/musigr/study_netology/blob/main/4_Constructions_%26_files_part_2/%D0%A3%D0%BF%D1%80_%D0%BA%D0%BE%D0%BD%D1%81%D1%82%D1%80%D1%83%D0%BA%D1%86%D0%B8%D0%B8_%D0%A7%D0%B0%D1%81%D1%82%D1%8C_2.ipynb\" target=\"_parent\"><img src=\"https://colab.research.google.com/assets/colab-badge.svg\" alt=\"Open In Colab\"/></a>"
      ]
    },
    {
      "cell_type": "markdown",
      "source": [
        "1"
      ],
      "metadata": {
        "id": "-s4JwNqeIIEr"
      }
    },
    {
      "cell_type": "code",
      "source": [
        "ids = {'user1': [213, 213, 213, 15, 213], \n",
        "       'user2': [54, 54, 119, 119, 119], \n",
        "       'user3': [213, 98, 98, 35]}\n",
        "\n",
        "geo_set = set()\n",
        "\n",
        "for geo in ids.values():\n",
        "    geo_set = geo_set.union(set(geo))\n",
        "\n",
        "print(geo_set)"
      ],
      "metadata": {
        "colab": {
          "base_uri": "https://localhost:8080/"
        },
        "id": "mP62RplpILP4",
        "outputId": "6ef2b224-f6b9-4218-aaa4-7b825c650dc5"
      },
      "execution_count": null,
      "outputs": [
        {
          "output_type": "stream",
          "name": "stdout",
          "text": [
            "{98, 35, 213, 54, 119, 15}\n"
          ]
        }
      ]
    },
    {
      "cell_type": "markdown",
      "source": [
        "2"
      ],
      "metadata": {
        "id": "tjpDJ-5VIdux"
      }
    },
    {
      "cell_type": "code",
      "source": [
        "queries = [\n",
        "'смотреть сериалы онлайн',\n",
        "'новости спорта',\n",
        "'афиша кино',\n",
        "'курс доллара',\n",
        "'сериалы этим летом',\n",
        "'курс по питону',\n",
        "'сериалы про спорт'\n",
        "]\n",
        "\n",
        "spisok = []\n",
        "\n",
        "for item in queries:\n",
        "    spisok.append(len(item.split()))\n",
        "\n",
        "i = 1\n",
        "\n",
        "while i <= max(spisok):\n",
        "    if spisok.count(i) >0:\n",
        "        print('Поисковых запросов, содержащих', i ,'слов(а/о):', round(spisok.count(i)*100/len(spisok),2))\n",
        "    i += 1"
      ],
      "metadata": {
        "colab": {
          "base_uri": "https://localhost:8080/"
        },
        "id": "Na5NQyNiIep_",
        "outputId": "0b4aaa54-c836-4be7-c3e2-507a0f425635"
      },
      "execution_count": null,
      "outputs": [
        {
          "output_type": "stream",
          "name": "stdout",
          "text": [
            "Поисковых запросов, содержащих 2 слов(а/о): 42.86\n",
            "Поисковых запросов, содержащих 3 слов(а/о): 57.14\n"
          ]
        }
      ]
    },
    {
      "cell_type": "markdown",
      "source": [
        "3"
      ],
      "metadata": {
        "id": "pBxHsKzgIt76"
      }
    },
    {
      "cell_type": "code",
      "source": [
        "results = {\n",
        "'vk': {'revenue': 103, 'cost': 98},\n",
        "'yandex': {'revenue': 179, 'cost': 153},\n",
        "'facebook': {'revenue': 103, 'cost': 110},\n",
        "'adwords': {'revenue': 35, 'cost': 34},\n",
        "'twitter': {'revenue': 11, 'cost': 24},\n",
        "}\n",
        "\n",
        "results_roi = {}\n",
        "\n",
        "for row,values in results.items():\n",
        "    results_roi.update({row:{'ROI':round((values['revenue'] / values['cost'] - 1) * 100, 2), 'cost':values['cost'], 'revenue':values['revenue']}})\n",
        "\n",
        "results_roi"
      ],
      "metadata": {
        "colab": {
          "base_uri": "https://localhost:8080/"
        },
        "id": "NtFITIsOIvBv",
        "outputId": "40c4de3e-2473-4793-8c5e-5a5a67bd19cc"
      },
      "execution_count": null,
      "outputs": [
        {
          "output_type": "execute_result",
          "data": {
            "text/plain": [
              "{'adwords': {'ROI': 2.94, 'cost': 34, 'revenue': 35},\n",
              " 'facebook': {'ROI': -6.36, 'cost': 110, 'revenue': 103},\n",
              " 'twitter': {'ROI': -54.17, 'cost': 24, 'revenue': 11},\n",
              " 'vk': {'ROI': 5.1, 'cost': 98, 'revenue': 103},\n",
              " 'yandex': {'ROI': 16.99, 'cost': 153, 'revenue': 179}}"
            ]
          },
          "metadata": {},
          "execution_count": 3
        }
      ]
    },
    {
      "cell_type": "markdown",
      "source": [
        "4"
      ],
      "metadata": {
        "id": "Z1KSRvSgI1au"
      }
    },
    {
      "cell_type": "code",
      "source": [
        "stats = {'facebook': 55, 'yandex': 115, 'vk': 120, 'google': 99, 'email': 42, 'ok': 98}\n",
        "\n",
        "for channel, amount in stats.items():\n",
        "     if amount == max(list(stats.values())):\n",
        "         print('Максимальный объем продаж на рекламном канале:',channel)\n",
        "        \n",
        "max(stats, key=stats.get) "
      ],
      "metadata": {
        "colab": {
          "base_uri": "https://localhost:8080/",
          "height": 53
        },
        "id": "Wn6zTkk8I3RG",
        "outputId": "002f64cd-8b5c-4717-b900-89d37044aa00"
      },
      "execution_count": null,
      "outputs": [
        {
          "output_type": "stream",
          "name": "stdout",
          "text": [
            "Максимальный объем продаж на рекламном канале: vk\n"
          ]
        },
        {
          "output_type": "execute_result",
          "data": {
            "text/plain": [
              "'vk'"
            ],
            "application/vnd.google.colaboratory.intrinsic+json": {
              "type": "string"
            }
          },
          "metadata": {},
          "execution_count": 4
        }
      ]
    }
  ]
}
